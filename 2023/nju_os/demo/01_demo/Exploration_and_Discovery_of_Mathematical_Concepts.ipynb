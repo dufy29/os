{
 "cells": [
  {
   "cell_type": "code",
   "execution_count": null,
   "metadata": {},
   "outputs": [],
   "source": [
    "# Life is short; you need Python.\n",
    "import z3\n",
    "import numpy as np\n",
    "import sympy as sp\n",
    "import matplotlib.pyplot as plt\n",
    "\n",
    "x = sp.symbols('x')\n",
    "\n",
    "def plot(f, points=[], draw_label=True, draw_points=True):\n",
    "    \"\"\"Plot a sympy symbolic polynomial f.\"\"\"\n",
    "\n",
    "    xmin = min([x_ for x_, _ in points], default=-1) - 0.1\n",
    "    xmax = max([x_ for x_, _ in points], default=1) + 0.1\n",
    "\n",
    "    xs = np.arange(xmin, xmax, (xmax - xmin) / 100)\n",
    "    ys = [f.subs(x, x_) for x_ in xs]\n",
    "\n",
    "    plt.grid(True)\n",
    "    plt.plot(xs, ys)\n",
    "    if draw_points:\n",
    "        plt.scatter(\n",
    "            [x_ for x_, y_ in points],\n",
    "            [y_ for x_, y_ in points],\n",
    "        )\n",
    "    if draw_label:\n",
    "        for x_, y_ in points:\n",
    "            plt.text(x_, y_, f'$({x_},{y_})$', va='bottom', ha='center')\n",
    "        plt.title(f'$y = {sp.latex(f)}$')"
   ]
  },
  {
   "cell_type": "code",
   "execution_count": null,
   "metadata": {},
   "outputs": [],
   "source": [
    "plot(x + 1, draw_label=False)\n",
    "plot(x**2 + 1, draw_label=False)\n",
    "plot(x**3 + 1, draw_label=False)"
   ]
  },
  {
   "cell_type": "code",
   "execution_count": null,
   "metadata": {},
   "outputs": [],
   "source": [
    "def interpolate(n=0, xs=[], ys=[]):\n",
    "    \"\"\"Return a polynomial that passes through all given points.\"\"\"\n",
    "    n = max(n, len(xs), len(ys))\n",
    "    if len(xs) == 0: xs = [sp.symbols(f'x{i}') for i in range(n)]\n",
    "    if len(ys) == 0: ys = [sp.symbols(f'y{i}') for i in range(n)]\n",
    "    vs = [sp.symbols(f'a{i}') for i in range(n)]\n",
    "    power = list(range(n))\n",
    "\n",
    "    cons = [\n",
    "        sum(\n",
    "            v * (x_ ** k) for v, k in zip(vs, power)\n",
    "        ) - y\n",
    "            for x_, y in zip(xs, ys)\n",
    "    ]\n",
    "\n",
    "    sol = list(sp.linsolve(cons, vs))[0]\n",
    "\n",
    "    f = (sum(\n",
    "        v * (x ** k) for v, k in zip(sol, power)\n",
    "    ))\n",
    "    return f"
   ]
  },
  {
   "cell_type": "code",
   "execution_count": null,
   "metadata": {},
   "outputs": [],
   "source": [
    "xs = [-1, 0, 1, 2, 3]\n",
    "ys = [-1, 2, 1, 4, 5]\n",
    "f = interpolate(xs=xs, ys=ys)\n",
    "plot(f, list(zip(xs, ys)), True)"
   ]
  },
  {
   "cell_type": "code",
   "execution_count": null,
   "metadata": {},
   "outputs": [],
   "source": [
    "n = 10\n",
    "xs = np.arange(-1, 1, 1 / n)\n",
    "ys = np.sin(xs * n)\n",
    "f = interpolate(xs=xs, ys=ys)\n",
    "plot(f, list(zip(xs, ys)), draw_points=True, draw_label=False)\n",
    "f"
   ]
  },
  {
   "cell_type": "code",
   "execution_count": null,
   "metadata": {},
   "outputs": [],
   "source": [
    "sp.simplify(interpolate(3))"
   ]
  }
 ],
 "metadata": {
  "language_info": {
   "name": "python"
  },
  "orig_nbformat": 4
 },
 "nbformat": 4,
 "nbformat_minor": 2
}
