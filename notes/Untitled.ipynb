{
 "cells": [
  {
   "cell_type": "markdown",
   "id": "1e55afd6",
   "metadata": {},
   "source": [
    "南大os主页： http://jyywiki.cn/OS/2023/\n",
    "\n",
    "jupyter: https://jyywiki.cn/OS/2023/build/lect1.ipynb.html"
   ]
  },
  {
   "cell_type": "markdown",
   "id": "80989e00",
   "metadata": {},
   "source": [
    "\n",
    "为什么要学 “任何东西”？\n",
    "\n",
    "重走从无到有的发现历程\n",
    "\n",
    "基本思想、基本方法、里程碑、走过的弯路\n",
    "\n",
    "最终目的：应用/创新 (做题得分不是目的而是手段)\n",
    "\n",
    "如果只是记得几个结论，那 ChatGPT 已经做得很好了"
   ]
  },
  {
   "cell_type": "markdown",
   "id": "83dc72ef",
   "metadata": {},
   "source": [
    "\n",
    "- 7段 数码管程序来理解计算机硬件 (电路)\n",
    "    \n",
    "    数字逻辑电路是一个极简的公理系统 (导线、时钟、逻辑门、触发器)\n",
    "    \n",
    "    建立在公理体系上的数字系统设计 (包括计算机)\n",
    "\n",
    "- 鸡兔同笼问题， 理解 软件，高级语言到 指令序列\n",
    "\n",
    "    高级语言代码 → 指令序列 → 二进制文件 → 处理器执行\n",
    "    \n",
    "（要能看到事物的本质，一句话说清事物的本质）"
   ]
  },
  {
   "cell_type": "markdown",
   "id": "3680d17a",
   "metadata": {},
   "source": [
    "#### 7段数码管，理解硬件"
   ]
  },
  {
   "cell_type": "code",
   "execution_count": null,
   "id": "8dc61083",
   "metadata": {},
   "outputs": [],
   "source": [
    "\n",
    "#include <stdio.h>\n",
    "#include <stdbool.h>\n",
    "#include <unistd.h>\n",
    "\n",
    "typedef bool wire; // Wires\n",
    "typedef struct {\n",
    "  bool value;\n",
    "  wire *in, *out;\n",
    "} reg; // Flip-flops\n",
    "\n",
    "// Circuit constructs\n",
    "#define CLOCK       for (; ; )\n",
    "#define NAND(X, Y)  (!((X) && (Y)))\n",
    "#define NOT(X)      (NAND(X, 1))\n",
    "#define AND(X, Y)   (NOT(NAND(X, Y)))\n",
    "#define OR(X, Y)    (NAND(NOT(X), NOT(Y)))\n",
    "\n",
    "// Circuit emulation helpers\n",
    "#define PRINT(X) printf(#X \" = %d; \", X)\n",
    "\n",
    "// Wire and register specification\n",
    "wire X, Y, X1, Y1, A, B, C, D, E, F, G;\n",
    "reg b1 = {.in = &X1, .out = &X};\n",
    "reg b0 = {.in = &Y1, .out = &Y};\n",
    "\n",
    "// Dump wire values at the end of each cycle\n",
    "void end_cycle() {\n",
    "  PRINT(A); PRINT(B); PRINT(C); PRINT(D);\n",
    "  PRINT(E); PRINT(F); PRINT(G);\n",
    "  putchar('\\n');\n",
    "  fflush(stdout);\n",
    "}\n",
    "\n",
    "int main() {\n",
    "  CLOCK {\n",
    "    // 1. Wire network specification (logic gates)\n",
    "    X1 = AND(NOT(X), Y);\n",
    "    Y1 = NOT(OR(X, Y));\n",
    "    A = D = E = NOT(Y);\n",
    "    B = 1;\n",
    "    C = NOT(X);\n",
    "    F = Y1;\n",
    "    G = X;\n",
    "\n",
    "    // 2. Lock data in flip-flops and propagate output to wires\n",
    "    b0.value = *b0.in;\n",
    "    b1.value = *b1.in;\n",
    "    *b0.out = b0.value;\n",
    "    *b1.out = b1.value;\n",
    "\n",
    "    // 3. End-cycle hook\n",
    "    end_cycle();\n",
    "    sleep(1);\n",
    "  }\n",
    "\n",
    "}\n"
   ]
  },
  {
   "attachments": {
    "image.png": {
     "image/png": "[encoded data removed]"
    }
   },
   "cell_type": "markdown",
   "id": "25263bb4",
   "metadata": {},
   "source": [
    "![image.png](attachment:image.png)\n",
    "\n"
   ]
  },
  {
   "cell_type": "markdown",
   "id": "9b34f5d0",
   "metadata": {},
   "source": [
    "#### 鸡兔问题，理解软件的执行"
   ]
  },
  {
   "cell_type": "code",
   "execution_count": null,
   "id": "69176efc",
   "metadata": {},
   "outputs": [],
   "source": [
    "#include <stdio.h>\n",
    "#include <stdbool.h>\n",
    "#include <unistd.h>\n",
    "#include <stdint.h>\n",
    "#include <assert.h>\n",
    "\n",
    "typedef uint32_t u32;\n",
    "\n",
    "typedef struct { u32 op:7, rd:5, f3:3, rs1:5, rs2:5, f7:7; } inst_t;\n",
    "typedef struct {\n",
    "  u32 on, x[32];\n",
    "} CPUState;\n",
    "\n",
    "// Uncore:\n",
    "//   inst_fetch - read an instruction from stdin\n",
    "//   ebreak - hyper call: putchar/putd/exit\n",
    "#include \"uncore.c\"\n",
    "\n",
    "static inline u32 sext(u32 val, u32 n) {\n",
    "  // Sign extend n-bit integer val to 32-bit\n",
    "  u32 mask = ~((1 << n) - 1);\n",
    "  u32 set = (val >> (n - 1)) & 1;\n",
    "  u32 ret = set ? (val | mask) : val;\n",
    "  return ret;\n",
    "}\n",
    "\n",
    "int main(int argc, char *argv[]) {\n",
    "  CPUState cpu = {.on = 1, .x = { 0 }}; // The RESET state\n",
    "  for (int i = 0; argv[i + 1] && i < 8; i++) {\n",
    "    cpu.x[10 + i] = atoi(argv[i + 1]); // Set a0-a7 to arguments\n",
    "  }\n",
    "\n",
    "  inst_t in;\n",
    "  while (cpu.on && inst_fetch(&in)) {\n",
    "    // For each fetched instruction, execute it following the RV32I spec\n",
    "    u32 op = in.op, f3 = in.f3, f7 = in.f7;\n",
    "    u32 imm = sext((f7 << 5) | in.rs2, 12), shamt = in.rs2;\n",
    "    u32 rd = in.rd, rs1_u = cpu.x[in.rs1], rs2_u = cpu.x[in.rs2], res = 0;\n",
    "\n",
    "    #define __ else if // Bad syntactic sugar!  \n",
    "    # 6条指令序列\n",
    "    if (op == 0b0110011 && f3 == 0b000 && f7 == 0b0000000) res = rs1_u + rs2_u;\n",
    "    __ (op == 0b0110011 && f3 == 0b000 && f7 == 0b0100000) res = rs1_u - rs2_u;\n",
    "    __ (op == 0b0010011 && f3 == 0b000)                    res = rs1_u + imm;\n",
    "    __ (op == 0b0010011 && f3 == 0b001 && f7 == 0b0000000) res = rs1_u << shamt;\n",
    "    __ (op == 0b0010011 && f3 == 0b101 && f7 == 0b0000000) res = rs1_u >> shamt;\n",
    "    __ (op == 0b1110011 && f3 == 0b000 && rd == 0 && imm == 1) ebreak(&cpu);\n",
    "    else assert(0);\n",
    "    if (rd) cpu.x[rd] = res;\n",
    "  }\n",
    "}\n",
    "\n",
    "/*\n",
    "# make run \n",
    "2 Head, 4 Feet:\n",
    "2 0\n",
    "2 Head, 6 Feet:\n",
    "1 1\n",
    "2 Head, 8 Feet:\n",
    "0 2\n",
    "35 Head, 94 Feet:\n",
    "23 12\n",
    "(pt2)\n",
    "*/"
   ]
  },
  {
   "cell_type": "code",
   "execution_count": null,
   "id": "1a025495",
   "metadata": {},
   "outputs": [],
   "source": []
  }
 ],
 "metadata": {
  "kernelspec": {
   "display_name": "Python 3 (ipykernel)",
   "language": "python",
   "name": "python3"
  },
  "language_info": {
   "codemirror_mode": {
    "name": "ipython",
    "version": 3
   },
   "file_extension": ".py",
   "mimetype": "text/x-python",
   "name": "python",
   "nbconvert_exporter": "python",
   "pygments_lexer": "ipython3",
   "version": "3.11.5"
  }
 },
 "nbformat": 4,
 "nbformat_minor": 5
}
