{
 "cells": [
  {
   "cell_type": "markdown",
   "metadata": {},
   "source": [
    "南大os主页： http://jyywiki.cn/OS/2023/\n",
    "\n",
    "jupyter: http://jyywiki.cn/OS/2023/build/lect2.ipynb"
   ]
  },
  {
   "cell_type": "code",
   "execution_count": null,
   "metadata": {},
   "outputs": [],
   "source": [
    "计算机是一个状态机\n",
    "cpu 是一个无情执行指令的机器\n",
    "软件： os = 库函数（文件，进程，）\n",
    "硬件： os = c 程序"
   ]
  },
  {
   "cell_type": "markdown",
   "metadata": {},
   "source": [
    "## 1. 软件：什么是最小的os程序？"
   ]
  },
  {
   "cell_type": "code",
   "execution_count": null,
   "metadata": {},
   "outputs": [],
   "source": [
    "示例程序 hello.c：\n",
    "#include <stdio.h>\n",
    "int main() {\n",
    "    printf(\"hello world\\n\");\n",
    "    return 0;\n",
    "}\n",
    "\n",
    "df@moss:~/g15/code/os/lect2$ gcc hello.c\n",
    "df@moss:~/g15/code/os/lect2$ ls\n",
    "a.out  hello.c\n",
    "\n",
    "$ objdump -d a.out | less   # objdump 工具可以查看对应的汇编代码\n",
    "$ objdump -d a.out | wc -l\n",
    "$ gcc hello.c  -static  # -static 会链接 libc (大量的代码)\n",
    "\n",
    "$ gcc hello.c  -static --verbose # 查看gcc所有编译选项\n",
    "$ gcc  hello.c  -static -Wl,--verbose | less  # 可以查看所有链接选项\n",
    "这样的程序不满足最小！！\n",
    "计算机世界里没有任何魔法"
   ]
  },
  {
   "cell_type": "markdown",
   "metadata": {},
   "source": [
    "## 2. 开始构造最小的应用程序\n",
    "\n"
   ]
  },
  {
   "cell_type": "code",
   "execution_count": null,
   "metadata": {},
   "outputs": [],
   "source": [
    "示例程序 hello.c：\n",
    "\n",
    "int main() {\n",
    "\n",
    "}\n",
    "\n",
    "df@moss:~/g15/code/os/lect2$ gcc -c hello.c\n",
    "df@moss:~/g15/code/os/lect2$ objdump -d hello.o\n",
    "0000000000000000 <main>:\n",
    "   0:   f3 0f 1e fa             endbr64\n",
    "   4:   55                      push   %rbp    # \n",
    "   5:   48 89 e5                mov    %rsp,%rbp # rsp--> rbp\n",
    "   8:   b8 00 00 00 00          mov    $0x0,%eax  # eax 返回值\n",
    "   d:   5d                      pop    %rbp\n",
    "   e:   c3                      ret\n",
    "解读： rbp, rsp 分别是栈底和栈顶指针\n",
    "\n",
    "df@moss:~/g15/code/os/lect2$ ld hello.o -e main\n",
    "df@moss:~/g15/code/os/lect2$ file a.out\n",
    "a.out: ELF 64-bit LSB executable, x86-64, version 1 (SYSV), statically linked, not stripped\n",
    "df@moss:~/g15/code/os/lect2$ ./a.out\n",
    "Segmentation fault"
   ]
  },
  {
   "cell_type": "code",
   "execution_count": null,
   "metadata": {},
   "outputs": [],
   "source": [
    "\"\"\"栈帧push的汇编解释,https://blog.csdn.net/qq_43325061/article/details/119066069#:~:text=push%20%25rbp%20%E6%98%AF%E6%8A%8A%20%25rbp,%E6%88%91%E7%9A%84%E6%A0%88%E5%BA%95%E4%BD%8D%E7%BD%AE%E3%80%82\n",
    "\n",
    "下面是常见的反汇编代码\n",
    "\n",
    "push   %rbp\n",
    "mov    %rsp,%rbp\n",
    "push   %rbx\n",
    "sub    $0x18,%rsp\n",
    "\n",
    "pop    %rbx\n",
    "pop    %rbp\n",
    "retq   \n",
    "\n",
    "push %rbp是把%rbp寄存器的值保存到内存里面的数组模拟栈，结合下面的mov %rsp,%rbp可以知道，%rbp此刻push的就是上面一个栈帧的栈低位置，\n",
    "同时mov也将本初始化为0长度的栈帧低保存起来，因为此刻rsp是上一个栈帧的栈顶位置，刚好就是我的栈底位置。\n",
    "所以mov是把左边的操作数的值赋给右边。\n",
    "\n",
    "下一步sub $0x18,%rsp表示将rsp减去24个字节，代表给传参留位置。这样rsp就开始移动。所以sub也是右边是结果，右边减去最左边。\n",
    "\n",
    "push %rbx是因为是被调用者保护rbx\n",
    "\n",
    "最后从栈弹出保存的rbx rbp到对应的寄存器，这样就相当于恢复的执行上下文。retq就返回到返回地址，一般是下一条指令地址。\n",
    "\n",
    "\"\"\"\n"
   ]
  },
  {
   "cell_type": "markdown",
   "metadata": {},
   "source": [
    "##  3.gdb调试，探究Segmentation fault 原因"
   ]
  },
  {
   "cell_type": "code",
   "execution_count": null,
   "metadata": {},
   "outputs": [],
   "source": [
    "df@moss:~/g15/code/os/lect2$ gdb a.out\n",
    "GNU gdb (Ubuntu 12.1-0ubuntu1~22.04) 12.1\n",
    "....................\n",
    "For help, type \"help\".\n",
    "Type \"apropos word\" to search for commands related to \"word\"...\n",
    "Reading symbols from a.out...\n",
    "(No debugging symbols found in a.out)\n",
    "(gdb) starti\n",
    "Starting program: /mnt/c/Users/dufei/code/os/lect2/a.out\n",
    "\n",
    "Program stopped.\n",
    "0x0000000000401000 in main ()\n",
    "(gdb)layout asm  # text UI\n",
    "(gdb)si\n",
    "(gdb)info registers  \n",
    "(gdb)p $rsp\n",
    "(gdb)x $rsp # 0x00000001\n",
    "(gdb)si\n",
    "0x0...0000001 in ?? ()"
   ]
  },
  {
   "cell_type": "code",
   "execution_count": null,
   "metadata": {},
   "outputs": [],
   "source": [
    "那为何下面的程序不能正常执行呢？？, 使用 gdb 观测程序的执行\n",
    "\"\"\"\n",
    "int main() {\n",
    " \n",
    "}\n",
    "\"\"\"\n",
    "\n",
    "gdb a.out\n",
    "......\n",
    "Type \"apropos word\" to search for commands related to \"word\"...\n",
    "Reading symbols from a.out...(no debugging symbols found)...done.\n",
    "(gdb) starti\n",
    "Starting program: /code/daily-record/os/lect2/a.out \n",
    "warning: Error disabling address space randomization: Operation not permitted\n",
    "\n",
    "Program stopped.\n",
    "0x00000000004000b0 in main ()\n",
    "(gdb) layout asm\n",
    "(gdb) info reg\n",
    "----------------\n",
    "  │0x4000b4 <main+4>       mov    $0x0,%eax                                                                                       │\n",
    "   │0x4000b9 <main+9>       pop    %rbp                                                                                            │\n",
    "  >│0x4000ba <main+10>      retq                                                                                                   │\n",
    "   │0x4000bb                add    %al,(%rax)                                                                                      │\n",
    "   │0x4000bd                add    %al,(%rax)                                                                                      │\n",
    "   │0x4000bf                add    %dl,(%rax,%rax,1)                                                                               │\n",
    "   │0x4000c2                add    %al,(%rax)                                                                                      │\n",
    "   │0x4000c4                add    %al,(%rax)                                                                                      │\n",
    "   │0x4000c6                add    %al,(%rax)                                                                                      │\n",
    "   │0x4000c8                add    %edi,0x52(%rdx)                                                                                 │\n",
    "   │0x4000cb                add    %al,(%rcx)                                                                                      │\n",
    "   │0x4000cd                js     0x4000df                                                                                        │\n",
    "   │0x4000cf                add    %ebx,(%rbx)                                                                                     │\n",
    "   │0x4000d1                or     $0x7,%al                                                                                        │\n",
    "   │0x4000d3                or     %dl,0x1c000001(%rax)                                                                            │\n",
    "   │0x4000d9                add    %al,(%rax)                                                                                      │\n",
    "   │0x4000db                add    %bl,(%rax,%rax,1)                                                                               │\n",
    "   │0x4000de                add    %al,(%rax)                                                                                      │\n",
    "   │0x4000e0                sar    %bh                                                                                             │\n",
    "   └───────────────────────────────────────────────────────────────────────────────────────────────────────────────────────────────┘\n",
    "native process 95639 In: main                                                                                    L??   PC: 0x4000ba \n",
    "rsp            0x7ffcec8e9200   0x7ffcec8e9200\n",
    "r8             0x0      0\n",
    "r9             0x0      0\n",
    "r10            0x0      0\n",
    "---Type <return> to continue, or q <return> to quit---q\n",
    "Quit\n",
    "(gdb) si\n",
    "0x00000000004000b1 in main ()\n",
    "0x00000000004000b4 in main ()\n",
    "0x00000000004000b9 in main ()\n",
    "0x00000000004000ba in main ()\n",
    "(gdb) p $rsp\n",
    "$1 = (void *) 0x7ffcec8e9200\n",
    "(gdb) x $rsp\n",
    "0x7ffcec8e9200: 0x00000001\n",
    "(gdb) si\n",
    "Cannot access memory at address 0x1  #  不合法这里\n",
    "(gdb) "
   ]
  },
  {
   "cell_type": "code",
   "execution_count": null,
   "metadata": {},
   "outputs": [],
   "source": [
    "添加 死循环后可以正常执行：\n",
    "\"\"\"\n",
    "int main() {\n",
    "  while (1); \n",
    "}\n",
    "\"\"\"\n",
    "root@3d972822392a:/code/daily-record/os/lect2# objdump -d a.out \n",
    "\n",
    "00000000004000b0 <main>:\n",
    "  4000b0:       55                      push   %rbp\n",
    "  4000b1:       48 89 e5                mov    %rsp,%rbp\n",
    "  4000b4:       eb fe                   jmp    4000b4 <main+0x4>\n",
    "\n"
   ]
  },
  {
   "cell_type": "code",
   "execution_count": null,
   "metadata": {},
   "outputs": [],
   "source": [
    "我们的计算机系统是状态机，os 提供 syscall()， 程序停止\n",
    "最小的 hello world , minimal.S文件：\n",
    "\n",
    "\n",
    "\"\"\"  这个程序不是很理解？？？\n",
    "#include <sys/syscall.h>\n",
    "\n",
    ".globl _start\n",
    "_start:\n",
    "  movq $SYS_write, %rax   // write(\n",
    "  movq $1,         %rdi   //   fd=1,\n",
    "  movq $st,        %rsi   //   buf=st,\n",
    "  movq $(ed - st), %rdx   //   count=ed-st\n",
    "  syscall                 // );\n",
    "\n",
    "  movq $SYS_exit,  %rax   // exit(\n",
    "  movq $1,         %rdi   //   status=1\n",
    "  syscall                 // );\n",
    "\n",
    "st:\n",
    "  .ascii \"\\033[01;31mHello, OS World\\033[0m\\n\"\n",
    "ed:\n",
    "\"\"\"\n",
    "\n",
    "$ gcc -c minimal.S\n",
    "$ ld minimal.o\n",
    "$ ./a.out\n",
    "Hello, OS World"
   ]
  },
  {
   "cell_type": "markdown",
   "metadata": {},
   "source": [
    "## 4, c语言的状态机模型"
   ]
  },
  {
   "cell_type": "code",
   "execution_count": null,
   "metadata": {},
   "outputs": [],
   "source": [
    "什么是程序？\n",
    "gdb 解释器对照查看命令：\n",
    "gcc hello.c -ggdb\n",
    "gdb a.out\n",
    "layout src\n",
    "start"
   ]
  },
  {
   "cell_type": "markdown",
   "metadata": {},
   "source": [
    "\n",
    "任何c语言代码--> 赋值，运算，if...goto，\n",
    "\n",
    "这就是编译器\n",
    "\n",
    "![image-20230409172821708](https://tva1.sinaimg.cn/large/008vOhrAgy1hctkrkr09tj30lq0dodgr.jpg)\n",
    "\n"
   ]
  },
  {
   "cell_type": "markdown",
   "metadata": {},
   "source": [
    "## 5, 操作系统中 “任何程序” 的一生\n",
    "任何程序 = minimal.S = 调用 syscall 的状态机\n",
    "\n",
    "- 被操作系统加载\n",
    "通过另一个进程执行 execve 设置为初始状态\n",
    "- 状态机执行\n",
    "\n",
    "    进程管理：fork, execve, exit, ...\n",
    "    \n",
    "    文件/设备管理：open, close, read, write, ...\n",
    "    \n",
    "    存储管理：mmap, brk, ...\n",
    "- 调用 _exit (exit_group) 退出\n",
    "\n",
    "e.g., \n",
    "![image-20230409213341415](https://tva1.sinaimg.cn/large/008vOhrAgy1hctruqa9h7j31io0bqmzj.jpg)"
   ]
  },
  {
   "cell_type": "code",
   "execution_count": null,
   "metadata": {},
   "outputs": [],
   "source": [
    "# 查看 系统调用有哪些\n",
    "man syscalls\n",
    "man syscall"
   ]
  },
  {
   "cell_type": "markdown",
   "metadata": {},
   "source": [
    "### 5.1, strace 打开程序的执行\n",
    "将程序的所有系统调用打印出来\n",
    "\n",
    "查看所有执行的系统调用系列\n",
    "\n",
    "gcc demo:\n",
    "\n",
    "将strace 输出以管道的方式给文本编辑器：\n",
    "\n",
    "strace -f gcc hello.c |& vim -\n",
    "\n",
    ":set nowrap # 折叠\n",
    "\n",
    ":set nu\n",
    "\n",
    ":%!grep execve  # 只查看 包含 execve的行\n",
    "\n",
    ":%!grep -e execve -e open\n",
    "\n",
    "![image-20230409221918348](https://tva1.sinaimg.cn/large/008vOhrAgy1hctt67irh9j31zu0l0k2q.jpg)"
   ]
  },
  {
   "cell_type": "code",
   "execution_count": null,
   "metadata": {},
   "outputs": [],
   "source": []
  }
 ],
 "metadata": {
  "kernelspec": {
   "display_name": "Python 3 (ipykernel)",
   "language": "python",
   "name": "python3"
  },
  "language_info": {
   "codemirror_mode": {
    "name": "ipython",
    "version": 3
   },
   "file_extension": ".py",
   "mimetype": "text/x-python",
   "name": "python",
   "nbconvert_exporter": "python",
   "pygments_lexer": "ipython3",
   "version": "3.8.16"
  }
 },
 "nbformat": 4,
 "nbformat_minor": 4
}
