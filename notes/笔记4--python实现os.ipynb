{
 "cells": [
  {
   "cell_type": "markdown",
   "id": "d0c66a2b",
   "metadata": {},
   "source": [
    "参考：\n",
    "[【OS】Python模拟简单的操作系统](\n",
    "https://blog.csdn.net/woodwhale/article/details/130884847)\n"
   ]
  },
  {
   "cell_type": "code",
   "execution_count": null,
   "id": "a8fdaf1e",
   "metadata": {},
   "outputs": [],
   "source": [
    "strace  关注系统调用\n",
    "strace -f gcc hello.c |& vim -\n",
    "  "
   ]
  },
  {
   "cell_type": "code",
   "execution_count": null,
   "id": "246ab0ce",
   "metadata": {},
   "outputs": [],
   "source": [
    "操作系统玩具：API\n",
    "四个 “系统调用” API\n",
    "\n",
    "choose(xs): 返回 xs 中的一个随机选项\n",
    "write(s): 输出字符串 s\n",
    "spawn(fn): 创建一个可运行的状态机 fn\n",
    "sched(): 随机切换到任意状态机执行\n",
    "除此之外，所有的代码都是确定 (deterministic) 的纯粹计算\n",
    "\n",
    "允许使用 list, dict 等数据结构"
   ]
  },
  {
   "cell_type": "code",
   "execution_count": null,
   "id": "58748bb8",
   "metadata": {},
   "outputs": [],
   "source": [
    "线程就是有共享内存的进程"
   ]
  }
 ],
 "metadata": {
  "kernelspec": {
   "display_name": "Python 3 (ipykernel)",
   "language": "python",
   "name": "python3"
  },
  "language_info": {
   "codemirror_mode": {
    "name": "ipython",
    "version": 3
   },
   "file_extension": ".py",
   "mimetype": "text/x-python",
   "name": "python",
   "nbconvert_exporter": "python",
   "pygments_lexer": "ipython3",
   "version": "3.11.5"
  }
 },
 "nbformat": 4,
 "nbformat_minor": 5
}
