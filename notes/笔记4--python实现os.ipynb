{
 "cells": [
  {
   "cell_type": "code",
   "execution_count": null,
   "id": "1ceb0dbc",
   "metadata": {},
   "outputs": [],
   "source": [
    "strace  关注系统调用\n",
    "strace -f gcc hello.c |& vim -\n",
    "  "
   ]
  }
 ],
 "metadata": {
  "kernelspec": {
   "display_name": "Python 3 (ipykernel)",
   "language": "python",
   "name": "python3"
  },
  "language_info": {
   "codemirror_mode": {
    "name": "ipython",
    "version": 3
   },
   "file_extension": ".py",
   "mimetype": "text/x-python",
   "name": "python",
   "nbconvert_exporter": "python",
   "pygments_lexer": "ipython3",
   "version": "3.11.5"
  }
 },
 "nbformat": 4,
 "nbformat_minor": 5
}
