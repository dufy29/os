{
 "cells": [
  {
   "cell_type": "markdown",
   "id": "d0c66a2b",
   "metadata": {},
   "source": [
    "参考：\n",
    "[【OS】Python模拟简单的操作系统](\n",
    "https://blog.csdn.net/woodwhale/article/details/130884847)\n"
   ]
  },
  {
   "cell_type": "code",
   "execution_count": null,
   "id": "a8fdaf1e",
   "metadata": {},
   "outputs": [],
   "source": [
    "strace  只关注系统调用，对程序执行流进行了简化\n",
    "\n",
    "strace -f gcc hello.c |& vim -\n",
    "strace ls |& vim -\n",
    "\n",
    "# -f 跟踪由fork调用所产生的子进程."
   ]
  },
  {
   "cell_type": "markdown",
   "id": "bb5f826b",
   "metadata": {},
   "source": [
    "## 操作系统玩具：API"
   ]
  },
  {
   "cell_type": "code",
   "execution_count": null,
   "id": "246ab0ce",
   "metadata": {},
   "outputs": [],
   "source": [
    "\n",
    "四个 “系统调用” API：\n",
    "\n",
    "1）choose(xs): 返回 xs 中的一个随机选项\n",
    "2）write(s): 输出字符串 s\n",
    "3）spawn(fn): 创建一个可运行的状态机 fn\n",
    "4）sched(): 随机切换到任意状态机执行\n",
    "除此之外，所有的代码都是确定 (deterministic) 的纯粹计算\n",
    "\n",
    "允许使用 list, dict 等数据结构"
   ]
  },
  {
   "cell_type": "code",
   "execution_count": null,
   "id": "58748bb8",
   "metadata": {},
   "outputs": [],
   "source": [
    "操作系统就是状态机的管理者\n",
    "线程就是有共享内存的进程"
   ]
  },
  {
   "cell_type": "code",
   "execution_count": null,
   "id": "41436a84",
   "metadata": {},
   "outputs": [],
   "source": []
  },
  {
   "cell_type": "code",
   "execution_count": 90,
   "id": "3f35eecb",
   "metadata": {},
   "outputs": [],
   "source": [
    "\"\"\"\n",
    "n = numbers()  # 封存状态机初始状态\n",
    "n.send(None)  # 恢复封存的状态\n",
    "n.send(0)  # 恢复封存的状态 (并传入返回值)\n",
    "\n",
    "注意状态机的流动状态，遇到 yield 会封存\n",
    "\n",
    "\"\"\"\n",
    "\n",
    "def numbers():\n",
    "    i = 0\n",
    "    while True:\n",
    "        print(f'1当前i: {i}')\n",
    "        ret = yield f'{i:b}'  # “封存” 状态机状态\n",
    "        print(f'ret: {ret}')\n",
    "        print(f'2当前i: {i}')\n",
    "        \n",
    "        i += ret\n",
    "        print(f'3当前i: {i}')\n",
    "        \n"
   ]
  },
  {
   "cell_type": "code",
   "execution_count": 98,
   "id": "bc8ecfd3",
   "metadata": {},
   "outputs": [
    {
     "data": {
      "text/plain": [
       "<generator object numbers at 0x7f76e07e2260>"
      ]
     },
     "execution_count": 98,
     "metadata": {},
     "output_type": "execute_result"
    }
   ],
   "source": [
    "n=numbers()\n",
    "n"
   ]
  },
  {
   "cell_type": "code",
   "execution_count": 99,
   "id": "0a8a2935",
   "metadata": {},
   "outputs": [
    {
     "name": "stdout",
     "output_type": "stream",
     "text": [
      "1当前i: 0\n"
     ]
    },
    {
     "data": {
      "text/plain": [
       "'0'"
      ]
     },
     "execution_count": 99,
     "metadata": {},
     "output_type": "execute_result"
    }
   ],
   "source": [
    "n.send(None)"
   ]
  },
  {
   "cell_type": "code",
   "execution_count": 100,
   "id": "63f369a6",
   "metadata": {},
   "outputs": [
    {
     "name": "stdout",
     "output_type": "stream",
     "text": [
      "ret: 1\n",
      "2当前i: 0\n",
      "3当前i: 1\n",
      "1当前i: 1\n"
     ]
    },
    {
     "data": {
      "text/plain": [
       "'1'"
      ]
     },
     "execution_count": 100,
     "metadata": {},
     "output_type": "execute_result"
    }
   ],
   "source": [
    "n.send(1)"
   ]
  },
  {
   "cell_type": "code",
   "execution_count": 101,
   "id": "2379f879",
   "metadata": {},
   "outputs": [
    {
     "name": "stdout",
     "output_type": "stream",
     "text": [
      "ret: 1\n",
      "2当前i: 1\n",
      "3当前i: 2\n",
      "1当前i: 2\n"
     ]
    },
    {
     "data": {
      "text/plain": [
       "'10'"
      ]
     },
     "execution_count": 101,
     "metadata": {},
     "output_type": "execute_result"
    }
   ],
   "source": [
    "n.send(1)"
   ]
  },
  {
   "cell_type": "code",
   "execution_count": 102,
   "id": "20de6566",
   "metadata": {},
   "outputs": [
    {
     "name": "stdout",
     "output_type": "stream",
     "text": [
      "ret: 2\n",
      "2当前i: 2\n",
      "3当前i: 4\n",
      "1当前i: 4\n"
     ]
    },
    {
     "data": {
      "text/plain": [
       "'100'"
      ]
     },
     "execution_count": 102,
     "metadata": {},
     "output_type": "execute_result"
    }
   ],
   "source": [
    "n.send(2)"
   ]
  },
  {
   "cell_type": "code",
   "execution_count": 103,
   "id": "6d76722b",
   "metadata": {},
   "outputs": [
    {
     "name": "stdout",
     "output_type": "stream",
     "text": [
      "ret: 100\n",
      "2当前i: 4\n",
      "3当前i: 104\n",
      "1当前i: 104\n"
     ]
    },
    {
     "data": {
      "text/plain": [
       "'1101000'"
      ]
     },
     "execution_count": 103,
     "metadata": {},
     "output_type": "execute_result"
    }
   ],
   "source": [
    "n.send(100)"
   ]
  },
  {
   "cell_type": "code",
   "execution_count": 104,
   "id": "eb5e4769",
   "metadata": {},
   "outputs": [
    {
     "name": "stdout",
     "output_type": "stream",
     "text": [
      "ret: 1\n",
      "2当前i: 104\n",
      "3当前i: 105\n",
      "1当前i: 105\n"
     ]
    },
    {
     "data": {
      "text/plain": [
       "'1101001'"
      ]
     },
     "execution_count": 104,
     "metadata": {},
     "output_type": "execute_result"
    }
   ],
   "source": [
    "n.send(1)"
   ]
  },
  {
   "cell_type": "code",
   "execution_count": null,
   "id": "7519999f",
   "metadata": {},
   "outputs": [],
   "source": []
  }
 ],
 "metadata": {
  "kernelspec": {
   "display_name": "Python 3 (ipykernel)",
   "language": "python",
   "name": "python3"
  },
  "language_info": {
   "codemirror_mode": {
    "name": "ipython",
    "version": 3
   },
   "file_extension": ".py",
   "mimetype": "text/x-python",
   "name": "python",
   "nbconvert_exporter": "python",
   "pygments_lexer": "ipython3",
   "version": "3.11.5"
  }
 },
 "nbformat": 4,
 "nbformat_minor": 5
}
